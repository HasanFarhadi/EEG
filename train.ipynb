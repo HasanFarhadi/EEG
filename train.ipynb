{
 "cells": [
  {
   "cell_type": "code",
   "execution_count": 11,
   "metadata": {},
   "outputs": [],
   "source": [
    "import os\n",
    "import warnings\n",
    "os.environ[\"KMP_DUPLICATE_LIB_OK\"]=\"TRUE\"\n",
    "#os.environ['CUDA_LAUNCH_BLOCKING'] = str(1)\n",
    "#os.environ[\"TORCH_USE_CUDA_DSA\"]= str(0)\n",
    "warnings.filterwarnings('ignore') \n",
    "device = \"cuda\""
   ]
  },
  {
   "cell_type": "code",
   "execution_count": 12,
   "metadata": {},
   "outputs": [],
   "source": [
    "from __future__ import print_function\n",
    "\n",
    "import copy\n",
    "import torch\n",
    "import torch.nn as nn\n",
    "from torch.nn import functional as F\n",
    "from torch.utils.data import Dataset\n",
    "import torch.optim as optim\n",
    "from torch.autograd import Variable\n",
    "from tqdm import tqdm\n",
    "import numpy as np\n",
    "import pandas as pd\n",
    "import matplotlib.pyplot as plt\n",
    "import time\n",
    "import math\n",
    "from collections import OrderedDict\n",
    "import random\n",
    "from torchsummary import summary\n",
    "from torchvision import transforms\n",
    "from torch.utils.data import Dataset\n",
    "import sys\n",
    "import torch\n",
    "import numpy as np\n",
    "from tqdm import trange\n",
    "from torch.utils.data import DataLoader\n",
    "from sklearn.metrics import accuracy_score"
   ]
  },
  {
   "cell_type": "code",
   "execution_count": 13,
   "metadata": {},
   "outputs": [],
   "source": [
    "import import_ipynb\n",
    "from Datagen import Data"
   ]
  },
  {
   "cell_type": "code",
   "execution_count": 14,
   "metadata": {},
   "outputs": [],
   "source": [
    "def likeliness(y_pred, y):\n",
    "    pred = torch.zeros([len(y_pred), y.shape[1]])\n",
    "    for idx, unit in enumerate(torch.argmax(y_pred, axis = 1)):\n",
    "        pred[idx, unit] = 1\n",
    "    return accuracy_score(pred.cpu(), y.cpu())"
   ]
  },
  {
   "cell_type": "code",
   "execution_count": 15,
   "metadata": {},
   "outputs": [],
   "source": [
    "class MyDataset(Dataset):\n",
    "    def __init__(self, x_train, x_test, y_train, y_test, train=True):\n",
    "        super(MyDataset, self).__init__()\n",
    "        self.transforms = transforms.ToTensor()\n",
    "        self.x = x_train if train else x_test\n",
    "        self.y = y_train if train else y_test\n",
    "        \n",
    "    def __getitem__(self, index):\n",
    "        x = self.x[index, ...]\n",
    "        y = self.y[index, ...]\n",
    "        return x, y\n",
    "    \n",
    "    def __len__(self):\n",
    "        return len(self.x)"
   ]
  },
  {
   "cell_type": "code",
   "execution_count": 16,
   "metadata": {},
   "outputs": [],
   "source": [
    "def load_data():\n",
    "    seglength = 300\n",
    "    train_ratio = 0.8\n",
    "    val_ratio = 0.1\n",
    "\n",
    "    focal_train, focal_test, focal_train_labels, focal_test_labels = Data('D:\\EEG\\FOCAL', train_ratio, seglength, class_num = 1)\n",
    "    ige_train, ige_test, ige_train_labels, ige_test_labels = Data('D:\\EEG\\IGE', train_ratio, seglength, class_num = 2)\n",
    "    \n",
    "    X_train = torch.cat((focal_train, ige_train))\n",
    "    Y_train = torch.cat((focal_train_labels, ige_train_labels))\n",
    "    X_test = torch.cat((focal_test, ige_test))\n",
    "    Y_test = torch.cat((focal_test_labels, ige_test_labels))\n",
    "\n",
    "    del focal_train, focal_test, focal_train_labels, focal_test_labels, ige_train, ige_test, ige_train_labels, ige_test_labels\n",
    "\n",
    "    pnes_train, pnes_test, pnes_train_labels, pnes_test_labels = Data('D:\\EEG\\PNES', train_ratio, seglength, class_num = 3)\n",
    "\n",
    "    X_train = torch.cat((X_train, pnes_train))\n",
    "    Y_train = torch.cat((Y_train, pnes_train_labels))\n",
    "    X_test = torch.cat((X_test, pnes_test))\n",
    "    Y_test = torch.cat((Y_test, pnes_test_labels))\n",
    "\n",
    "    del pnes_train, pnes_test, pnes_train_labels, pnes_test_labels\n",
    "\n",
    "    temporal_train, temporal_test, temporal_train_labels, temporal_test_labels = Data('D:\\EEG\\TLE', train_ratio, seglength, class_num = 4)\n",
    "\n",
    "    X_train = torch.cat((X_train, temporal_train))\n",
    "    Y_train = torch.cat((Y_train, temporal_train_labels))\n",
    "    X_test = torch.cat((X_test, temporal_test))\n",
    "    Y_test = torch.cat((Y_test, temporal_test_labels))\n",
    "\n",
    "    del temporal_train, temporal_test, temporal_train_labels, temporal_test_labels\n",
    "\n",
    "    X_val = X_train[:int(val_ratio * len(Y_train))]\n",
    "    Y_val = Y_train[:int(val_ratio * len(Y_train))]\n",
    "    X_train = X_train[int(val_ratio * len(Y_train)):]\n",
    "    Y_train = Y_train[int(val_ratio * len(Y_train)):]\n",
    "\n",
    "    return X_train, Y_train, X_val, Y_val, X_test, Y_test"
   ]
  },
  {
   "cell_type": "code",
   "execution_count": 17,
   "metadata": {},
   "outputs": [],
   "source": [
    "#x_train, y_train, x_val, y_val, x_test, y_test = load_data()"
   ]
  },
  {
   "cell_type": "code",
   "execution_count": 18,
   "metadata": {},
   "outputs": [
    {
     "data": {
      "text/plain": [
       "'\\nx_train = x_train.view(-1, 1, 18, 300)\\nx_test = x_test.view(-1, 1, 18, 300)\\nx_val = x_val.view(-1, 1, 18, 300)\\n'"
      ]
     },
     "execution_count": 18,
     "metadata": {},
     "output_type": "execute_result"
    }
   ],
   "source": [
    "\"\"\"\n",
    "x_train = x_train.view(-1, 1, 18, 300)\n",
    "x_test = x_test.view(-1, 1, 18, 300)\n",
    "x_val = x_val.view(-1, 1, 18, 300)\n",
    "\"\"\""
   ]
  },
  {
   "cell_type": "code",
   "execution_count": 19,
   "metadata": {},
   "outputs": [],
   "source": [
    "\n",
    "x_train = torch.rand([42583, 1, 18, 300])\n",
    "y_train = torch.ones([42583, 4]) \n",
    "y_train[:, :3] = 0\n",
    "x_val = torch.rand([4731, 1, 18, 300])\n",
    "y_val = torch.ones([4731, 4]) \n",
    "y_val[:, :3] = 0\n",
    "x_test = torch.rand([11828, 1, 18, 300])\n",
    "y_test = torch.ones([11828, 4]) \n",
    "y_test[:, :3] = 0\n"
   ]
  },
  {
   "cell_type": "code",
   "execution_count": 20,
   "metadata": {},
   "outputs": [],
   "source": [
    "class LSTM_CNN_Spatial(nn.Module):\n",
    "    def __init__(self, num_classes, batch_size, T, C, input_size, hidden_size,\n",
    "                 num_layers, spatial_num=8, drop_out=0.5):\n",
    "        super(LSTM_CNN_Spatial, self).__init__()\n",
    "\n",
    "        self.N = batch_size\n",
    "        self.T = T\n",
    "        self.C = C\n",
    "        self.input_size = input_size\n",
    "        self.hidden_size = hidden_size\n",
    "        self.num_layers = num_layers\n",
    "        self.pool = 4\n",
    "        self.seq_len = self.T // self.input_size\n",
    "        self.fc_in = spatial_num * self.hidden_size // self.pool\n",
    "        \n",
    "        self._lstm = nn.LSTM(self.input_size, self.hidden_size, \n",
    "                            self.num_layers, batch_first=True)\n",
    "        self.lstm = nn.ModuleList([self._lstm for i in range(self.C)])\n",
    "        \n",
    "        self.block_1 = nn.Sequential(\n",
    "            nn.Conv2d(1, spatial_num, (self.C, 1)),\n",
    "            nn.BatchNorm2d(spatial_num),\n",
    "            nn.ELU(),\n",
    "            nn.AvgPool2d((1, self.pool)),\n",
    "            nn.Dropout(drop_out)\n",
    "        )\n",
    "        \n",
    "        self.fc = nn.Linear(self.fc_in , num_classes)\n",
    "        \n",
    "    def forward(self, x):\n",
    "        # input shape of x: (N, 1, C, T)\n",
    "        self.N = x.shape[0]\n",
    "        x = x.reshape(self.N, self.C, self.seq_len, self.input_size)\n",
    "        _x = None\n",
    "        for index, lstm in enumerate(self.lstm):\n",
    "            lstm_out, _ = lstm(x[:, index, :, :], None)\n",
    "            tmp = lstm_out[:, -1, :]\n",
    "            tmp = tmp.unsqueeze(0)\n",
    "            if _x is None:\n",
    "                _x = tmp\n",
    "            else:\n",
    "                _x = torch.cat((_x, tmp), dim=0)\n",
    "        \n",
    "        # (C, N, H) ===> (N, 1, C, H)   H: hidden_size\n",
    "        x = _x.permute(1, 0, 2).unsqueeze(1)\n",
    "        x = self.block_1(x)\n",
    "        \n",
    "        x = x.view(x.size(0), -1)\n",
    "        logits = self.fc(x)\n",
    "        probas = F.softmax(logits, dim=1)\n",
    "        return probas  "
   ]
  },
  {
   "cell_type": "code",
   "execution_count": 21,
   "metadata": {},
   "outputs": [],
   "source": [
    "def train(model, criterion, optimizer, data_loader, device, train_num, epochs, x_val, y_val, logged=False):\n",
    "    for epoch in trange(epochs):\n",
    "        model.train()\n",
    "        running_loss = 0.0\n",
    "        correct_num = 0\n",
    "        batch_size = None\n",
    "        for index, data in enumerate(data_loader):\n",
    "            x, y = data\n",
    "            batch_size = x.shape[0] if index == 0 else batch_size\n",
    "            x, y = x.to(device), y.to(device)\n",
    "            \n",
    "            y_pred = model(x)\n",
    "            _, pred = torch.max(y_pred, 1)\n",
    "            \n",
    "            correct_num += np.sum(pred.cpu().numpy() == y.cpu().numpy())\n",
    "            \n",
    "            loss = criterion(y_pred, y)\n",
    "            optimizer.zero_grad()\n",
    "            loss.backward()\n",
    "            optimizer.step()\n",
    "            \n",
    "            running_loss += float(loss.item())\n",
    "            \n",
    "        batch_num = train_num // batch_size\n",
    "        _loss = running_loss / (batch_num + 1)\n",
    "        acc = correct_num / train_num * 100\n",
    "        if not logged:\n",
    "            print(f'Epoch {epoch+1}/{epochs}\\tTrain loss: {_loss:.4f}')\n",
    "        print(f\"train accuracy: {likeliness(model(x_val[:1000].cuda()), y_val[:1000].cuda())}\")\n",
    "        \n",
    "        print(model(x_val[0].cuda()))\n",
    "        print('--------------------------------------------')\n",
    "    \n",
    "    \n",
    "    if not logged:\n",
    "        print('Finish Training!')"
   ]
  },
  {
   "cell_type": "code",
   "execution_count": 22,
   "metadata": {},
   "outputs": [],
   "source": [
    "def test(model, criterion, data_loader, device, test_num, log, logged = False):\n",
    "    running_loss = 0.0\n",
    "    correct_num = 0\n",
    "    model.eval()\n",
    "    batch_size = None\n",
    "    for index, data in enumerate(data_loader):\n",
    "        x, y = data\n",
    "        batch_size = x.shape[0] if index == 0 else batch_size\n",
    "        x, y = x.to(device), y.to(device)\n",
    "        \n",
    "        y_pred = model(x)\n",
    "        _, pred = torch.max(y_pred, 1)\n",
    "        if sys.platform == 'linux':\n",
    "            correct_num += np.sum(pred.cpu().numpy() == y.cpu().numpy())\n",
    "        else: \n",
    "            correct_num += np.sum(pred.cpu().numpy() == y.cpu().numpy())\n",
    "        \n",
    "        loss = criterion(y_pred, y)\n",
    "        running_loss += float(loss.item())\n",
    "    \n",
    "    batch_num = test_num // batch_size\n",
    "    _loss = running_loss / (batch_num + 1)\n",
    "    acc = correct_num / test_num * 100\n",
    "    print(f'Test loss: {_loss:.4f}\\tTest acc: {acc:.2f}%')\n",
    "    if logged:\n",
    "        log.append(f'{acc:.2f}\\t\\n')\n",
    "        with open('result.txt', 'a') as f:\n",
    "            f.writelines(log)\n",
    "    \n",
    "    return model"
   ]
  },
  {
   "cell_type": "code",
   "execution_count": 23,
   "metadata": {},
   "outputs": [],
   "source": [
    "def main(epochs, batch_size, input_size, hidden_size, num_layers, spatial_num, drop_out, x_val, y_val, logged=False):\n",
    "    DEVICE = torch.device('cuda:0' if torch.cuda.is_available() else 'cpu')\n",
    "    print('DEVICE: ', DEVICE)\n",
    "    \n",
    "    group = 1\n",
    "    sorted_ = True\n",
    "    # sorted_ = False\n",
    "\n",
    "    # load data from '.npy' file\n",
    "    # x_train, x_test, y_train, y_test = load_group_eeg_data(date, group, sorted_=sorted_)\n",
    "    # x: (N, C, T)  N: trials  C: channels  T: times \n",
    "    train_num, test_num = x_train.shape[0], x_test.shape[0]\n",
    "    \n",
    "    # make dataset for train and test\n",
    "    train_data = MyDataset(x_train, x_test, y_train, y_test)\n",
    "    test_data = MyDataset(x_train, x_test, y_train, y_test, train=False)\n",
    "    train_loader = DataLoader(train_data, batch_size=batch_size)\n",
    "    test_loader = DataLoader(test_data, batch_size=batch_size)\n",
    "\n",
    "    # model initiation\n",
    "    # model = LSTM(num_classes=2, input_size=64, hidden_size=256, num_layers=2)\n",
    "    \n",
    "    # model = LSTM_CNN(num_classes=2, channels=x_train.shape[1], input_size=input_size, hidden_size=hidden_size, \n",
    "    #                  num_layers=num_layers, spatial_num=spatial_num, drop_out=drop_out)\n",
    "    \n",
    "    # model = LSTM_CNN_Half(num_classes=2, batch_size=batch_size, T=x_train.shape[-1],\n",
    "    #                       C=x_train.shape[-2], input_size=input_size, hidden_size=hidden_size,\n",
    "    #                       num_layers=num_layers, spatial_num=spatial_num)\n",
    "    \n",
    "    model = LSTM_CNN_Spatial(num_classes=4, batch_size=batch_size, T=x_train.shape[-1],\n",
    "                          C=x_train.shape[-2], input_size=input_size, hidden_size=hidden_size,\n",
    "                          num_layers=num_layers, spatial_num=spatial_num)\n",
    "    \n",
    "    model = model.to(DEVICE)\n",
    "    criterion = nn.CrossEntropyLoss()\n",
    "    optimizer = optim.Adam(model.parameters(), lr = 1e-3)\n",
    "\n",
    "    log = []\n",
    "    if logged:\n",
    "        log.append(f'{epochs}\\t{batch_size}\\t{input_size}\\t{hidden_size}\\t'\n",
    "                   f'{num_layers}\\t{spatial_num}\\t{drop_out}\\t')\n",
    "    train(model, criterion, optimizer, train_loader, DEVICE,train_num, epochs, x_val, y_val, logged=False)\n",
    "    test(model, criterion, test_loader, DEVICE, test_num, log, logged = False)"
   ]
  },
  {
   "cell_type": "code",
   "execution_count": 24,
   "metadata": {},
   "outputs": [],
   "source": [
    "torch.cuda.empty_cache()"
   ]
  },
  {
   "cell_type": "code",
   "execution_count": 25,
   "metadata": {},
   "outputs": [
    {
     "name": "stdout",
     "output_type": "stream",
     "text": [
      "DEVICE:  cuda:0\n"
     ]
    },
    {
     "name": "stderr",
     "output_type": "stream",
     "text": [
      "  0%|          | 1/200 [00:04<14:55,  4.50s/it]"
     ]
    },
    {
     "name": "stdout",
     "output_type": "stream",
     "text": [
      "Epoch 1/200\tTrain loss: 0.8331\n",
      "train accuracy: 1.0\n",
      "tensor([[0.0032, 0.0031, 0.0029, 0.9909]], device='cuda:0',\n",
      "       grad_fn=<SoftmaxBackward0>)\n",
      "--------------------------------------------\n"
     ]
    },
    {
     "name": "stderr",
     "output_type": "stream",
     "text": [
      "  1%|          | 2/200 [00:07<11:39,  3.53s/it]"
     ]
    },
    {
     "name": "stdout",
     "output_type": "stream",
     "text": [
      "Epoch 2/200\tTrain loss: 0.7491\n",
      "train accuracy: 1.0\n",
      "tensor([[1.5458e-03, 2.7785e-03, 5.7308e-04, 9.9510e-01]], device='cuda:0',\n",
      "       grad_fn=<SoftmaxBackward0>)\n",
      "--------------------------------------------\n"
     ]
    },
    {
     "name": "stderr",
     "output_type": "stream",
     "text": [
      "  2%|▏         | 3/200 [00:10<10:44,  3.27s/it]"
     ]
    },
    {
     "name": "stdout",
     "output_type": "stream",
     "text": [
      "Epoch 3/200\tTrain loss: 0.7460\n",
      "train accuracy: 1.0\n",
      "tensor([[0.0316, 0.0118, 0.0101, 0.9465]], device='cuda:0',\n",
      "       grad_fn=<SoftmaxBackward0>)\n",
      "--------------------------------------------\n"
     ]
    },
    {
     "name": "stderr",
     "output_type": "stream",
     "text": [
      "  2%|▏         | 4/200 [00:13<10:12,  3.13s/it]"
     ]
    },
    {
     "name": "stdout",
     "output_type": "stream",
     "text": [
      "Epoch 4/200\tTrain loss: 0.7450\n",
      "train accuracy: 1.0\n",
      "tensor([[1.4311e-04, 2.6624e-05, 2.2201e-05, 9.9981e-01]], device='cuda:0',\n",
      "       grad_fn=<SoftmaxBackward0>)\n",
      "--------------------------------------------\n"
     ]
    },
    {
     "name": "stderr",
     "output_type": "stream",
     "text": [
      "  2%|▏         | 4/200 [00:15<12:34,  3.85s/it]\n"
     ]
    },
    {
     "ename": "KeyboardInterrupt",
     "evalue": "",
     "output_type": "error",
     "traceback": [
      "\u001b[1;31m---------------------------------------------------------------------------\u001b[0m",
      "\u001b[1;31mKeyboardInterrupt\u001b[0m                         Traceback (most recent call last)",
      "\u001b[1;32m~\\AppData\\Local\\Temp\\ipykernel_7428\\1202011621.py\u001b[0m in \u001b[0;36m<module>\u001b[1;34m\u001b[0m\n\u001b[0;32m      7\u001b[0m \u001b[0mdrop_out\u001b[0m \u001b[1;33m=\u001b[0m \u001b[1;36m0.5\u001b[0m\u001b[1;33m\u001b[0m\u001b[1;33m\u001b[0m\u001b[0m\n\u001b[0;32m      8\u001b[0m \u001b[0mlogged\u001b[0m \u001b[1;33m=\u001b[0m \u001b[1;32mFalse\u001b[0m\u001b[1;33m\u001b[0m\u001b[1;33m\u001b[0m\u001b[0m\n\u001b[1;32m----> 9\u001b[1;33m \u001b[0mmodel\u001b[0m \u001b[1;33m=\u001b[0m \u001b[0mmain\u001b[0m\u001b[1;33m(\u001b[0m\u001b[0mepochs\u001b[0m\u001b[1;33m,\u001b[0m \u001b[0mbatch_size\u001b[0m\u001b[1;33m,\u001b[0m \u001b[0minput_size\u001b[0m\u001b[1;33m,\u001b[0m \u001b[0mhidden_size\u001b[0m\u001b[1;33m,\u001b[0m \u001b[0mnum_layers\u001b[0m\u001b[1;33m,\u001b[0m \u001b[0mspatial_num\u001b[0m\u001b[1;33m,\u001b[0m \u001b[0mdrop_out\u001b[0m\u001b[1;33m,\u001b[0m \u001b[0mx_val\u001b[0m\u001b[1;33m,\u001b[0m \u001b[0my_val\u001b[0m\u001b[1;33m,\u001b[0m \u001b[0mlogged\u001b[0m\u001b[1;33m=\u001b[0m\u001b[1;32mFalse\u001b[0m\u001b[1;33m)\u001b[0m\u001b[1;33m\u001b[0m\u001b[1;33m\u001b[0m\u001b[0m\n\u001b[0m",
      "\u001b[1;32m~\\AppData\\Local\\Temp\\ipykernel_7428\\782038794.py\u001b[0m in \u001b[0;36mmain\u001b[1;34m(epochs, batch_size, input_size, hidden_size, num_layers, spatial_num, drop_out, x_val, y_val, logged)\u001b[0m\n\u001b[0;32m     40\u001b[0m         log.append(f'{epochs}\\t{batch_size}\\t{input_size}\\t{hidden_size}\\t'\n\u001b[0;32m     41\u001b[0m                    f'{num_layers}\\t{spatial_num}\\t{drop_out}\\t')\n\u001b[1;32m---> 42\u001b[1;33m     \u001b[0mtrain\u001b[0m\u001b[1;33m(\u001b[0m\u001b[0mmodel\u001b[0m\u001b[1;33m,\u001b[0m \u001b[0mcriterion\u001b[0m\u001b[1;33m,\u001b[0m \u001b[0moptimizer\u001b[0m\u001b[1;33m,\u001b[0m \u001b[0mtrain_loader\u001b[0m\u001b[1;33m,\u001b[0m \u001b[0mDEVICE\u001b[0m\u001b[1;33m,\u001b[0m\u001b[0mtrain_num\u001b[0m\u001b[1;33m,\u001b[0m \u001b[0mepochs\u001b[0m\u001b[1;33m,\u001b[0m \u001b[0mx_val\u001b[0m\u001b[1;33m,\u001b[0m \u001b[0my_val\u001b[0m\u001b[1;33m,\u001b[0m \u001b[0mlogged\u001b[0m\u001b[1;33m=\u001b[0m\u001b[1;32mFalse\u001b[0m\u001b[1;33m)\u001b[0m\u001b[1;33m\u001b[0m\u001b[1;33m\u001b[0m\u001b[0m\n\u001b[0m\u001b[0;32m     43\u001b[0m     \u001b[0mtest\u001b[0m\u001b[1;33m(\u001b[0m\u001b[0mmodel\u001b[0m\u001b[1;33m,\u001b[0m \u001b[0mcriterion\u001b[0m\u001b[1;33m,\u001b[0m \u001b[0mtest_loader\u001b[0m\u001b[1;33m,\u001b[0m \u001b[0mDEVICE\u001b[0m\u001b[1;33m,\u001b[0m \u001b[0mtest_num\u001b[0m\u001b[1;33m,\u001b[0m \u001b[0mlog\u001b[0m\u001b[1;33m,\u001b[0m \u001b[0mlogged\u001b[0m \u001b[1;33m=\u001b[0m \u001b[1;32mFalse\u001b[0m\u001b[1;33m)\u001b[0m\u001b[1;33m\u001b[0m\u001b[1;33m\u001b[0m\u001b[0m\n",
      "\u001b[1;32m~\\AppData\\Local\\Temp\\ipykernel_7428\\979354151.py\u001b[0m in \u001b[0;36mtrain\u001b[1;34m(model, criterion, optimizer, data_loader, device, train_num, epochs, x_val, y_val, logged)\u001b[0m\n\u001b[0;32m     17\u001b[0m             \u001b[0mloss\u001b[0m \u001b[1;33m=\u001b[0m \u001b[0mcriterion\u001b[0m\u001b[1;33m(\u001b[0m\u001b[0my_pred\u001b[0m\u001b[1;33m,\u001b[0m \u001b[0my\u001b[0m\u001b[1;33m)\u001b[0m\u001b[1;33m\u001b[0m\u001b[1;33m\u001b[0m\u001b[0m\n\u001b[0;32m     18\u001b[0m             \u001b[0moptimizer\u001b[0m\u001b[1;33m.\u001b[0m\u001b[0mzero_grad\u001b[0m\u001b[1;33m(\u001b[0m\u001b[1;33m)\u001b[0m\u001b[1;33m\u001b[0m\u001b[1;33m\u001b[0m\u001b[0m\n\u001b[1;32m---> 19\u001b[1;33m             \u001b[0mloss\u001b[0m\u001b[1;33m.\u001b[0m\u001b[0mbackward\u001b[0m\u001b[1;33m(\u001b[0m\u001b[1;33m)\u001b[0m\u001b[1;33m\u001b[0m\u001b[1;33m\u001b[0m\u001b[0m\n\u001b[0m\u001b[0;32m     20\u001b[0m             \u001b[0moptimizer\u001b[0m\u001b[1;33m.\u001b[0m\u001b[0mstep\u001b[0m\u001b[1;33m(\u001b[0m\u001b[1;33m)\u001b[0m\u001b[1;33m\u001b[0m\u001b[1;33m\u001b[0m\u001b[0m\n\u001b[0;32m     21\u001b[0m \u001b[1;33m\u001b[0m\u001b[0m\n",
      "\u001b[1;32mc:\\Users\\admin\\anaconda3\\lib\\site-packages\\torch\\_tensor.py\u001b[0m in \u001b[0;36mbackward\u001b[1;34m(self, gradient, retain_graph, create_graph, inputs)\u001b[0m\n\u001b[0;32m    490\u001b[0m                 \u001b[0minputs\u001b[0m\u001b[1;33m=\u001b[0m\u001b[0minputs\u001b[0m\u001b[1;33m,\u001b[0m\u001b[1;33m\u001b[0m\u001b[1;33m\u001b[0m\u001b[0m\n\u001b[0;32m    491\u001b[0m             )\n\u001b[1;32m--> 492\u001b[1;33m         torch.autograd.backward(\n\u001b[0m\u001b[0;32m    493\u001b[0m             \u001b[0mself\u001b[0m\u001b[1;33m,\u001b[0m \u001b[0mgradient\u001b[0m\u001b[1;33m,\u001b[0m \u001b[0mretain_graph\u001b[0m\u001b[1;33m,\u001b[0m \u001b[0mcreate_graph\u001b[0m\u001b[1;33m,\u001b[0m \u001b[0minputs\u001b[0m\u001b[1;33m=\u001b[0m\u001b[0minputs\u001b[0m\u001b[1;33m\u001b[0m\u001b[1;33m\u001b[0m\u001b[0m\n\u001b[0;32m    494\u001b[0m         )\n",
      "\u001b[1;32mc:\\Users\\admin\\anaconda3\\lib\\site-packages\\torch\\autograd\\__init__.py\u001b[0m in \u001b[0;36mbackward\u001b[1;34m(tensors, grad_tensors, retain_graph, create_graph, grad_variables, inputs)\u001b[0m\n\u001b[0;32m    249\u001b[0m     \u001b[1;31m# some Python versions print out the first line of a multi-line function\u001b[0m\u001b[1;33m\u001b[0m\u001b[1;33m\u001b[0m\u001b[0m\n\u001b[0;32m    250\u001b[0m     \u001b[1;31m# calls in the traceback and some print out the last line\u001b[0m\u001b[1;33m\u001b[0m\u001b[1;33m\u001b[0m\u001b[0m\n\u001b[1;32m--> 251\u001b[1;33m     Variable._execution_engine.run_backward(  # Calls into the C++ engine to run the backward pass\n\u001b[0m\u001b[0;32m    252\u001b[0m         \u001b[0mtensors\u001b[0m\u001b[1;33m,\u001b[0m\u001b[1;33m\u001b[0m\u001b[1;33m\u001b[0m\u001b[0m\n\u001b[0;32m    253\u001b[0m         \u001b[0mgrad_tensors_\u001b[0m\u001b[1;33m,\u001b[0m\u001b[1;33m\u001b[0m\u001b[1;33m\u001b[0m\u001b[0m\n",
      "\u001b[1;31mKeyboardInterrupt\u001b[0m: "
     ]
    }
   ],
   "source": [
    "epochs = 200\n",
    "batch_size = 256\n",
    "input_size = 30\n",
    "hidden_size = 16\n",
    "num_layers = 4\n",
    "spatial_num = 8\n",
    "drop_out = 0.5\n",
    "logged = False\n",
    "model = main(epochs, batch_size, input_size, hidden_size, num_layers, spatial_num, drop_out, x_val, y_val, logged=False)"
   ]
  },
  {
   "cell_type": "code",
   "execution_count": null,
   "metadata": {},
   "outputs": [
    {
     "data": {
      "text/plain": [
       "0.332"
      ]
     },
     "execution_count": 273,
     "metadata": {},
     "output_type": "execute_result"
    }
   ],
   "source": [
    "model = LSTM_CNN_Spatial(num_classes=4, batch_size=batch_size, T=x_train.shape[-1],\n",
    "                          C=x_train.shape[-2], input_size=input_size, hidden_size=hidden_size,\n",
    "                          num_layers=num_layers, spatial_num=spatial_num).cuda()\n",
    "\n",
    "likeliness(model(x_train[:1000].cuda()), y_val[:1000].cuda())"
   ]
  }
 ],
 "metadata": {
  "kernelspec": {
   "display_name": "base",
   "language": "python",
   "name": "python3"
  },
  "language_info": {
   "codemirror_mode": {
    "name": "ipython",
    "version": 3
   },
   "file_extension": ".py",
   "mimetype": "text/x-python",
   "name": "python",
   "nbconvert_exporter": "python",
   "pygments_lexer": "ipython3",
   "version": "3.9.13"
  },
  "orig_nbformat": 4
 },
 "nbformat": 4,
 "nbformat_minor": 2
}
