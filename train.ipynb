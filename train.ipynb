{
 "cells": [
  {
   "cell_type": "code",
   "execution_count": 9,
   "metadata": {},
   "outputs": [],
   "source": [
    "import os\n",
    "os.environ[\"KMP_DUPLICATE_LIB_OK\"]=\"TRUE\"\n",
    "#os.environ['CUDA_LAUNCH_BLOCKING'] = str(1)\n",
    "#os.environ[\"TORCH_USE_CUDA_DSA\"]= str(0)\n",
    "device = \"cuda\""
   ]
  },
  {
   "cell_type": "code",
   "execution_count": 10,
   "metadata": {},
   "outputs": [],
   "source": [
    "from __future__ import print_function\n",
    "\n",
    "import os\n",
    "import torch\n",
    "import torch.nn as nn\n",
    "import torch.optim as optim\n",
    "import torch.nn.functional as F\n",
    "import torchvision\n",
    "import torchvision.transforms as transforms\n",
    "import matplotlib.pyplot as plt\n",
    "import numpy as np\n",
    "from torch.utils.data import Dataset\n",
    "from torchvision import datasets\n",
    "from torchvision.transforms import ToTensor\n",
    "import matplotlib.pyplot as plt\n",
    "from torch.autograd import Variable\n",
    "from sklearn.metrics import roc_auc_score, precision_score, recall_score, accuracy_score\n",
    "from torchsummary import summary\n",
    "import time"
   ]
  },
  {
   "cell_type": "code",
   "execution_count": 11,
   "metadata": {},
   "outputs": [],
   "source": [
    "import import_ipynb\n",
    "from Datagen import Data\n",
    "from lstm1 import LSTM"
   ]
  },
  {
   "cell_type": "code",
   "execution_count": 12,
   "metadata": {},
   "outputs": [],
   "source": [
    "def load_data():\n",
    "    seglength = 300\n",
    "    train_ratio = 0.8\n",
    "    val_ratio = 0.1\n",
    "\n",
    "    focal_train, focal_test, focal_train_labels, focal_test_labels = Data('D:\\EEG\\FOCAL', train_ratio, seglength, class_num = 1)\n",
    "    ige_train, ige_test, ige_train_labels, ige_test_labels = Data('D:\\EEG\\IGE', train_ratio, seglength, class_num = 2)\n",
    "    \n",
    "    X_train = torch.cat((focal_train, ige_train))\n",
    "    Y_train = torch.cat((focal_train_labels, ige_train_labels)).view(-1, 1)\n",
    "    X_test = torch.cat((focal_train, ige_train))\n",
    "    Y_test = torch.cat((focal_train_labels, ige_train_labels)).view(-1, 1)\n",
    "\n",
    "    del focal_train, focal_test, focal_train_labels, focal_test_labels, ige_train, ige_test, ige_train_labels, ige_test_labels\n",
    "\n",
    "    pnes_train, pnes_test, pnes_train_labels, pnes_test_labels = Data('D:\\EEG\\PNES', train_ratio, seglength, class_num = 3)\n",
    "\n",
    "    X_train = torch.cat((X_train, pnes_train))\n",
    "    Y_train = torch.cat((Y_train, pnes_train_labels.view(-1, 1)))\n",
    "    X_test = torch.cat((X_test, pnes_test))\n",
    "    Y_test = torch.cat((Y_test, pnes_test_labels.view(-1, 1)))\n",
    "\n",
    "    del pnes_train, pnes_test, pnes_train_labels, pnes_test_labels\n",
    "\n",
    "    temporal_train, temporal_test, temporal_train_labels, temporal_test_labels = Data('D:\\EEG\\TLE', train_ratio, seglength, class_num = 4)\n",
    "\n",
    "    X_train = torch.cat((X_train, temporal_train))\n",
    "    Y_train = torch.cat((Y_train, temporal_train_labels.view(-1, 1)))\n",
    "    X_test = torch.cat((X_test, temporal_test))\n",
    "    Y_test = torch.cat((Y_test, temporal_test_labels.view(-1, 1)))\n",
    "\n",
    "    del temporal_train, temporal_test, temporal_train_labels, temporal_test_labels\n",
    "\n",
    "    X_val = X_train[:int(val_ratio * len(Y_train))]\n",
    "    Y_val = Y_train[:int(val_ratio * len(Y_train))]\n",
    "    X_train = X_train[int(val_ratio * len(Y_train)):]\n",
    "    Y_train = Y_train[int(val_ratio * len(Y_train)):].view(-1, 1)\n",
    "\n",
    "    return X_train, Y_train, X_val, Y_val, X_test, Y_test"
   ]
  },
  {
   "cell_type": "code",
   "execution_count": 13,
   "metadata": {},
   "outputs": [],
   "source": [
    "#X_train, Y_train, X_val, Y_val, X_test, Y_test = load_data()"
   ]
  },
  {
   "cell_type": "code",
   "execution_count": 14,
   "metadata": {},
   "outputs": [],
   "source": [
    "#np.shape(X_train)"
   ]
  },
  {
   "cell_type": "code",
   "execution_count": 20,
   "metadata": {},
   "outputs": [],
   "source": [
    "\n",
    "X_train = torch.randn([14231, 300, 18])\n",
    "Y_train = torch.ones([14231, 1]) * 0.5\n",
    "X_val = torch.randn([1581, 300, 18])\n",
    "Y_val = torch.ones([1581, 1]) * 0.5\n",
    "X_test = torch.randn([10249, 300, 18])\n",
    "Y_test = torch.ones([10249, 1]) * 0.5\n"
   ]
  },
  {
   "cell_type": "code",
   "execution_count": 16,
   "metadata": {},
   "outputs": [],
   "source": [
    "def evaluate(model, X, Y, params = [\"fmeasure\"]):\n",
    "    torch.cuda.empty_cache()\n",
    "    results = [] \n",
    "    predicted = []\n",
    "    batch_size=1\n",
    "\n",
    "    \n",
    "    for i in range(int((len(X)/batch_size))):\n",
    "        s = i*batch_size\n",
    "        e = i*batch_size+batch_size\n",
    "            \n",
    "        inputs = Variable(X[s:e])\n",
    "        pred = model(inputs)\n",
    "            \n",
    "        predicted.append(pred.data.cpu().numpy())\n",
    "            \n",
    "    predicted = torch.Tensor(predicted).view(-1, 1)\n",
    "\n",
    "    for param in params:\n",
    "        if param == 'acc':\n",
    "            results.append(accuracy_score(Y, np.round(predicted)))\n",
    "        if param == \"auc\":\n",
    "            results.append(roc_auc_score(Y, predicted))\n",
    "        if param == \"recall\":\n",
    "            results.append(recall_score(Y, np.round(predicted)))\n",
    "        if param == \"precision\":\n",
    "            results.append(precision_score(Y, np.round(predicted)))\n",
    "        if param == \"fmeasure\":\n",
    "            precision = precision_score(Y, np.round(predicted))\n",
    "            recall = recall_score(Y, np.round(predicted))\n",
    "            results.append(2*precision*recall/ (precision+recall))\n",
    "    return results\n",
    "\n"
   ]
  },
  {
   "cell_type": "code",
   "execution_count": 21,
   "metadata": {},
   "outputs": [
    {
     "data": {
      "text/plain": [
       "tensor([[1.],\n",
       "        [1.],\n",
       "        [1.],\n",
       "        [1.],\n",
       "        [1.],\n",
       "        [1.],\n",
       "        [1.],\n",
       "        [1.],\n",
       "        [1.],\n",
       "        [1.],\n",
       "        [1.],\n",
       "        [1.],\n",
       "        [1.],\n",
       "        [1.],\n",
       "        [1.],\n",
       "        [1.],\n",
       "        [1.],\n",
       "        [1.],\n",
       "        [1.],\n",
       "        [1.]], device='cuda:0', grad_fn=<SoftmaxBackward0>)"
      ]
     },
     "execution_count": 21,
     "metadata": {},
     "output_type": "execute_result"
    }
   ],
   "source": [
    "\n",
    "model = LSTM(1, 18, 20, 20).cuda()\n",
    "\n",
    "model.forward(X_train[0:20].cuda())\n",
    "#summary(model.cuda(), (1, 300, 18))\n",
    "#model.cpu().forward(X_train[0:2])"
   ]
  },
  {
   "cell_type": "code",
   "execution_count": 71,
   "metadata": {},
   "outputs": [
    {
     "name": "stdout",
     "output_type": "stream",
     "text": [
      "\n",
      "Epoch  0\n",
      "\n",
      "Epoch  1\n",
      "\n",
      "Epoch  2\n"
     ]
    }
   ],
   "source": [
    "batch_size = 1024\n",
    "criterion = nn.CrossEntropyLoss()\n",
    "optimizer = optim.Adam(model.parameters(), lr=1e-2)\n",
    "torch.cuda.empty_cache()\n",
    "\n",
    "model.train()\n",
    "\n",
    "for epoch in range(3):  # loop over the dataset multiple times\n",
    "    print(\"\\nEpoch \", epoch)\n",
    "    running_loss = 0.0\n",
    "    for i in range(int(len(X_train)/batch_size-1)):\n",
    "        s = i*batch_size\n",
    "        e = i*batch_size+batch_size\n",
    "        \n",
    "        inputs = Variable(X_train[s:e].cuda())\n",
    "        labels = Variable(Y_train[s:e].cuda())\n",
    "\n",
    "\n",
    "\n",
    "        optimizer.zero_grad()\n",
    "        outputs = model.forward(inputs)\n",
    "\n",
    "        loss = criterion(outputs, labels)\n",
    "        loss.backward()\n",
    "\n",
    "        optimizer.step()\n",
    "\n",
    "        #print(loss.data)\n",
    "    \n",
    "    "
   ]
  },
  {
   "cell_type": "code",
   "execution_count": 78,
   "metadata": {},
   "outputs": [
    {
     "data": {
      "text/plain": [
       "tensor(50., device='cuda:0', grad_fn=<BinaryCrossEntropyBackward0>)"
      ]
     },
     "execution_count": 78,
     "metadata": {},
     "output_type": "execute_result"
    }
   ],
   "source": [
    "torch.cuda.empty_cache()\n",
    "criterion(outputs, labels)\n",
    "#evaluate(model, X_val.cuda(), Y_val.cpu(), params = [\"fmeasure\"])"
   ]
  },
  {
   "cell_type": "code",
   "execution_count": 72,
   "metadata": {},
   "outputs": [
    {
     "data": {
      "text/plain": [
       "tensor([[1.],\n",
       "        [1.],\n",
       "        [1.],\n",
       "        [1.],\n",
       "        [1.],\n",
       "        [1.],\n",
       "        [1.],\n",
       "        [1.],\n",
       "        [1.],\n",
       "        [1.],\n",
       "        [1.],\n",
       "        [1.],\n",
       "        [1.],\n",
       "        [1.],\n",
       "        [1.],\n",
       "        [1.],\n",
       "        [1.],\n",
       "        [1.]], device='cuda:0', grad_fn=<SoftmaxBackward0>)"
      ]
     },
     "execution_count": 72,
     "metadata": {},
     "output_type": "execute_result"
    }
   ],
   "source": [
    "model.forward(X_val.cuda()[2:20])"
   ]
  },
  {
   "cell_type": "code",
   "execution_count": 83,
   "metadata": {},
   "outputs": [
    {
     "data": {
      "text/plain": [
       "82"
      ]
     },
     "execution_count": 83,
     "metadata": {},
     "output_type": "execute_result"
    }
   ],
   "source": [
    "x = 0\n",
    "for i in model.parameters():\n",
    "    x = x + 1\n",
    "x"
   ]
  }
 ],
 "metadata": {
  "kernelspec": {
   "display_name": "base",
   "language": "python",
   "name": "python3"
  },
  "language_info": {
   "codemirror_mode": {
    "name": "ipython",
    "version": 3
   },
   "file_extension": ".py",
   "mimetype": "text/x-python",
   "name": "python",
   "nbconvert_exporter": "python",
   "pygments_lexer": "ipython3",
   "version": "3.9.13"
  },
  "orig_nbformat": 4
 },
 "nbformat": 4,
 "nbformat_minor": 2
}
