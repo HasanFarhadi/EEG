{
 "cells": [
  {
   "cell_type": "code",
   "execution_count": 1,
   "metadata": {},
   "outputs": [],
   "source": [
    "import os\n",
    "os.environ[\"KMP_DUPLICATE_LIB_OK\"]=\"TRUE\"\n",
    "%load_ext memory_profiler\n"
   ]
  },
  {
   "cell_type": "code",
   "execution_count": 2,
   "metadata": {},
   "outputs": [],
   "source": [
    "import numpy as np\n",
    "import pandas as pd\n",
    "import scipy as sp\n",
    "import mne\n",
    "import keras\n",
    "from keras.callbacks import EarlyStopping\n",
    "import matplotlib.pyplot as plt\n",
    "import tensorflow as tf\n",
    "tf.compat.v1.disable_eager_execution()\n",
    "import random\n",
    "from torch import optim\n",
    "import argparse\n",
    "from torch.utils.data import DataLoader, Dataset\n",
    "from torch.nn.utils.rnn import pad_sequence, pack_padded_sequence, pad_packed_sequence\n",
    "import torch\n",
    "import torch.nn as nn\n",
    "import torch.nn.functional as F\n",
    "from os import walk\n",
    "import matplotlib.pyplot as plt\n",
    "from copy import deepcopy\n",
    "import time\n",
    "from sklearn.preprocessing import MinMaxScaler\n",
    "from memory_profiler import profile"
   ]
  },
  {
   "cell_type": "code",
   "execution_count": 3,
   "metadata": {},
   "outputs": [],
   "source": [
    "DEVICE = torch.device('cuda:0')"
   ]
  },
  {
   "cell_type": "code",
   "execution_count": 4,
   "metadata": {},
   "outputs": [],
   "source": [
    "def pad(rawdata, seglength):\n",
    "    pad_length = -rawdata.size()[0] % seglength\n",
    "    padded = np.concatenate((rawdata, torch.zeros((int(pad_length), int(rawdata.size()[1])))), 0)\n",
    "    return padded"
   ]
  },
  {
   "cell_type": "code",
   "execution_count": 5,
   "metadata": {},
   "outputs": [],
   "source": [
    "def to_epochs(rawdata, seg_length):\n",
    "    data = pad(rawdata, seg_length)\n",
    "    split = np.array(np.split(data, seg_length))\n",
    "    return split.reshape(-1, seg_length, 20)"
   ]
  },
  {
   "cell_type": "code",
   "execution_count": 6,
   "metadata": {},
   "outputs": [],
   "source": [
    "def to_gpu(x, on_cpu=False, gpu_id=None):\n",
    "\n",
    "    if torch.cuda.is_available() and not on_cpu:\n",
    "        x = x.cuda(gpu_id)\n",
    "    return x"
   ]
  },
  {
   "cell_type": "code",
   "execution_count": 7,
   "metadata": {},
   "outputs": [],
   "source": [
    "def to_device(data, device):\n",
    "    if isinstance(data, (list, tuple)):\n",
    "        return [to_device(d, device) for d in data]\n",
    "    return data.to(device, non_blocking=True)"
   ]
  },
  {
   "cell_type": "code",
   "execution_count": 10,
   "metadata": {},
   "outputs": [],
   "source": [
    "def Data(path, train_ratio, seglength, class_num):\n",
    "    names = []\n",
    "    for path, _, name in os.walk(path):\n",
    "        names.append(name)\n",
    "        names = np.squeeze(names)\n",
    "    \n",
    "    patients = []\n",
    "    for i in range(len(names)):\n",
    "        patients.append(torch.Tensor(pd.read_csv(f\"{path}\\{names[i]}\" , skiprows=2, header=None).values))\n",
    "\n",
    "    patients_epochs = to_epochs(patients[0], seglength)\n",
    "    for patient in patients:\n",
    "        patients_epochs = np.concatenate((patients_epochs, to_epochs(patient, seglength)), axis = 0)\n",
    "\n",
    "    del patients\n",
    "\n",
    "    \n",
    "    np.random.shuffle(patients_epochs)\n",
    "    idx = (np.ceil(train_ratio * len(patients_epochs))).astype(int)\n",
    "    train = torch.Tensor(patients_epochs[0:idx])\n",
    "    test = torch.tensor(patients_epochs[idx:])\n",
    "\n",
    "    del patients_epochs\n",
    "\n",
    "    train_labels = torch.Tensor(np.ones(len(train)).reshape(-1) * class_num)\n",
    "    test_labels = torch.Tensor(np.ones(len(test)).reshape(-1) * class_num)\n",
    "    train = deepcopy(train.view(-1, seglength, 20)[:, :, 2:])\n",
    "    test = deepcopy(test.view(-1, seglength, 20)[:, :, 2:])\n",
    "    train = deepcopy((train - torch.min(train))/(torch.max(train) - torch.min(train))*(2) + -1)\n",
    "    test = deepcopy((test - torch.min(test))/(torch.max(test) - torch.min(test))*(2) + -1)\n",
    "    return train, test, train_labels, test_labels"
   ]
  },
  {
   "cell_type": "code",
   "execution_count": 11,
   "metadata": {},
   "outputs": [],
   "source": [
    "if __name__ == \"__main__\":\n",
    "    seglength = 9000\n",
    "    train_ratio = 0.8\n",
    "\n",
    "    #focal_train, focal_test, focal_train_labels, focal_test_labels = Data('D:\\EEG\\FOCAL', train_ratio, seglength, class_num = 1)\n",
    "    #ige_train, ige_test, ige_train_labels, ige_test_labels = Data('D:\\EEG\\IGE', train_ratio, seglength, class_num = 2)\n",
    "    #pnes_train, pnes_test, pnes_train_labels, pnes_test_labels = Data('D:\\EEG\\PNES', train_ratio, seglength, class_num = 3)\n",
    "    #temporal_train, temporal_test, temporal_train_labels, temporal_test_labels = Data('D:\\EEG\\TLE', train_ratio, seglength, class_num = 4)\n",
    "\n",
    "    \"\"\"\n",
    "    print(f\"train shape: {temporal_train.shape}\")\n",
    "    print(f\"test shape: {temporal_test.shape}\")\n",
    "    print(f\"train labels shape: {temporal_train_labels.shape}\")\n",
    "    print(f\"test labels shape: {temporal_test_labels.shape}\")\n",
    "    \"\"\""
   ]
  }
 ],
 "metadata": {
  "kernelspec": {
   "display_name": "base",
   "language": "python",
   "name": "python3"
  },
  "language_info": {
   "codemirror_mode": {
    "name": "ipython",
    "version": 3
   },
   "file_extension": ".py",
   "mimetype": "text/x-python",
   "name": "python",
   "nbconvert_exporter": "python",
   "pygments_lexer": "ipython3",
   "version": "3.9.13"
  },
  "orig_nbformat": 4
 },
 "nbformat": 4,
 "nbformat_minor": 2
}
