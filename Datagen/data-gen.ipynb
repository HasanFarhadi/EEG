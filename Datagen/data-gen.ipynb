{
 "cells": [
  {
   "cell_type": "code",
   "execution_count": 267,
   "metadata": {},
   "outputs": [],
   "source": [
    "import os\n",
    "os.environ[\"KMP_DUPLICATE_LIB_OK\"]=\"TRUE\""
   ]
  },
  {
   "cell_type": "code",
   "execution_count": 268,
   "metadata": {},
   "outputs": [],
   "source": [
    "import numpy as np\n",
    "import pandas as pd\n",
    "import scipy as sp\n",
    "import mne\n",
    "import keras\n",
    "from keras.callbacks import EarlyStopping\n",
    "import matplotlib.pyplot as plt\n",
    "import tensorflow as tf\n",
    "tf.compat.v1.disable_eager_execution()\n",
    "\n",
    "from torch import optim\n",
    "import argparse\n",
    "from random import random\n",
    "from torch.utils.data import DataLoader, Dataset\n",
    "from torch.nn.utils.rnn import pad_sequence, pack_padded_sequence, pad_packed_sequence\n",
    "import torch\n",
    "import torch.nn as nn\n",
    "import torch.nn.functional as F\n",
    "from os import walk"
   ]
  },
  {
   "cell_type": "code",
   "execution_count": 269,
   "metadata": {},
   "outputs": [],
   "source": [
    "DEVICE = torch.device('cuda:0')"
   ]
  },
  {
   "cell_type": "code",
   "execution_count": 270,
   "metadata": {},
   "outputs": [],
   "source": [
    "def prepad0(data, seglength):\n",
    "    pad = (-len(data)) % seglength\n",
    "    l = np.concatenate((data,np.zeros((pad, len(data[0])))))\n",
    "    return l"
   ]
  },
  {
   "cell_type": "code",
   "execution_count": 271,
   "metadata": {},
   "outputs": [],
   "source": [
    "def pad(rawdata, seglength):\n",
    "    pad_length = -rawdata.size()[0] % seglength\n",
    "    padded = torch.cat((rawdata, torch.zeros((pad_length, rawdata.size()[1]))), 0)\n",
    "    return padded"
   ]
  },
  {
   "cell_type": "code",
   "execution_count": 272,
   "metadata": {},
   "outputs": [],
   "source": [
    "def to_epochs(rawdata, seg_length = 9000):\n",
    "    data = pad(rawdata, seg_length)\n",
    "    return torch.split(data, seg_length)"
   ]
  },
  {
   "cell_type": "code",
   "execution_count": 273,
   "metadata": {},
   "outputs": [],
   "source": [
    "def to_gpu(x, on_cpu=False, gpu_id=None):\n",
    "\n",
    "    if torch.cuda.is_available() and not on_cpu:\n",
    "        x = x.cuda(gpu_id)\n",
    "    return x"
   ]
  },
  {
   "cell_type": "code",
   "execution_count": 274,
   "metadata": {},
   "outputs": [],
   "source": [
    "def to_device(data, device):\n",
    "    if isinstance(data, (list, tuple)):\n",
    "        return [to_device(d, device) for d in data]\n",
    "    return data.to(device, non_blocking=True)"
   ]
  },
  {
   "cell_type": "code",
   "execution_count": 275,
   "metadata": {},
   "outputs": [],
   "source": [
    "def generate_batches(files, batch_size, INPUT_DATA_DIR):\n",
    "    counter = 0\n",
    "\n",
    "    while True:\n",
    "        fname = files[counter]\n",
    "\n",
    "        counter = (counter + 1) % len(files)\n",
    "        frame = torch.Tensor(pd.read_csv(INPUT_DATA_DIR + f'\\{fname}', skiprows=2, header=None).values)\n",
    "\n",
    "        # here is your preprocessing\n",
    "\n",
    "        input = frame\n",
    "        output = torch.Tensor(1)\n",
    "\n",
    "        for local_index in range(0, input.shape[0], batch_size):\n",
    "            input_local = input[local_index:(local_index + batch_size)]\n",
    "            output_local = output[local_index:(local_index + batch_size)]\n",
    "\n",
    "            yield input_local, output_local"
   ]
  },
  {
   "cell_type": "code",
   "execution_count": 276,
   "metadata": {},
   "outputs": [
    {
     "data": {
      "text/plain": [
       "'\\nseg_length = 400\\nige = to_epochs(raw_ige, seg_length)\\nfocal = to_epochs(raw_focal, seg_length)\\nige_labels = torch.zeros((len(ige)))\\nfocal_labels = torch.ones((len(focal)))\\n'"
      ]
     },
     "execution_count": 276,
     "metadata": {},
     "output_type": "execute_result"
    }
   ],
   "source": [
    "\"\"\"\n",
    "seg_length = 400\n",
    "ige = to_epochs(raw_ige, seg_length)\n",
    "focal = to_epochs(raw_focal, seg_length)\n",
    "ige_labels = torch.zeros((len(ige)))\n",
    "focal_labels = torch.ones((len(focal)))\n",
    "\"\"\""
   ]
  },
  {
   "cell_type": "code",
   "execution_count": 277,
   "metadata": {},
   "outputs": [
    {
     "data": {
      "text/plain": [
       "\"\\nINPUT_DATA_DIR = 'D:\\\\EEG\\\\TLE'\\nTRAIN_DATA_COEFFICIENT = 0.75\\n\\nfiles = []\\nfor (dirpath, dirnames, filenames) in walk(INPUT_DATA_DIR):\\n    files.extend(filenames)\\n    break\\n\\ntrain_files_finish = int(len(files) * TRAIN_DATA_COEFFICIENT)\\ntrain_files = files[0:train_files_finish]\\nvalidation_files = files[train_files_finish:len(files)]\\n\""
      ]
     },
     "execution_count": 277,
     "metadata": {},
     "output_type": "execute_result"
    }
   ],
   "source": [
    "\"\"\"\n",
    "INPUT_DATA_DIR = 'D:\\EEG\\TLE'\n",
    "TRAIN_DATA_COEFFICIENT = 0.75\n",
    "\n",
    "files = []\n",
    "for (dirpath, dirnames, filenames) in walk(INPUT_DATA_DIR):\n",
    "    files.extend(filenames)\n",
    "    break\n",
    "\n",
    "train_files_finish = int(len(files) * TRAIN_DATA_COEFFICIENT)\n",
    "train_files = files[0:train_files_finish]\n",
    "validation_files = files[train_files_finish:len(files)]\n",
    "\"\"\""
   ]
  },
  {
   "cell_type": "code",
   "execution_count": 278,
   "metadata": {},
   "outputs": [
    {
     "data": {
      "text/plain": [
       "\"\\nbatch_size = 1000 \\ntrain_generator = generate_batches(files=train_files, batch_size=batch_size, INPUT_DATA_DIR = 'D:\\\\EEG\\\\TLE')\\ntest_generator = generate_batches(files=validation_files, batch_size=batch_size, INPUT_DATA_DIR = 'D:\\\\EEG\\\\TLE')\\n\""
      ]
     },
     "execution_count": 278,
     "metadata": {},
     "output_type": "execute_result"
    }
   ],
   "source": [
    "\"\"\"\n",
    "batch_size = 1000 \n",
    "train_generator = generate_batches(files=train_files, batch_size=batch_size, INPUT_DATA_DIR = 'D:\\EEG\\TLE')\n",
    "test_generator = generate_batches(files=validation_files, batch_size=batch_size, INPUT_DATA_DIR = 'D:\\EEG\\TLE')\n",
    "\"\"\""
   ]
  },
  {
   "cell_type": "code",
   "execution_count": 279,
   "metadata": {},
   "outputs": [],
   "source": [
    "names = []\n",
    "for path, _, name in os.walk('D:\\EEG\\PNES'):\n",
    "    names.append(name)\n",
    "    names = np.squeeze(names)\n"
   ]
  },
  {
   "cell_type": "code",
   "execution_count": 280,
   "metadata": {},
   "outputs": [],
   "source": [
    "data = torch.Tensor(pd.read_csv(f\"{path}\\{names[0]}\" , skiprows=2, header=None).values)"
   ]
  },
  {
   "cell_type": "code",
   "execution_count": 281,
   "metadata": {},
   "outputs": [],
   "source": [
    "pnes = []\n",
    "for i in range(3):\n",
    "    pnes.append(torch.Tensor(pd.read_csv(f\"{path}\\{names[i]}\" , skiprows=2, header=None).values))"
   ]
  }
 ],
 "metadata": {
  "kernelspec": {
   "display_name": "base",
   "language": "python",
   "name": "python3"
  },
  "language_info": {
   "codemirror_mode": {
    "name": "ipython",
    "version": 3
   },
   "file_extension": ".py",
   "mimetype": "text/x-python",
   "name": "python",
   "nbconvert_exporter": "python",
   "pygments_lexer": "ipython3",
   "version": "3.9.13"
  },
  "orig_nbformat": 4
 },
 "nbformat": 4,
 "nbformat_minor": 2
}
