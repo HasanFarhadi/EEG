{
 "cells": [
  {
   "cell_type": "code",
   "execution_count": 1,
   "metadata": {},
   "outputs": [],
   "source": [
    "import os\n",
    "os.environ[\"KMP_DUPLICATE_LIB_OK\"]=\"TRUE\""
   ]
  },
  {
   "cell_type": "code",
   "execution_count": 2,
   "metadata": {},
   "outputs": [],
   "source": [
    "import numpy as np\n",
    "import pandas as pd\n",
    "import scipy as sp\n",
    "import mne\n",
    "import keras\n",
    "from keras.callbacks import EarlyStopping\n",
    "import matplotlib.pyplot as plt\n",
    "import tensorflow as tf\n",
    "tf.compat.v1.disable_eager_execution()\n",
    "import random\n",
    "from torch import optim\n",
    "import argparse\n",
    "from torch.utils.data import DataLoader, Dataset\n",
    "from torch.nn.utils.rnn import pad_sequence, pack_padded_sequence, pad_packed_sequence\n",
    "import torch\n",
    "import torch.nn as nn\n",
    "import torch.nn.functional as F\n",
    "from os import walk"
   ]
  },
  {
   "cell_type": "code",
   "execution_count": 3,
   "metadata": {},
   "outputs": [],
   "source": [
    "DEVICE = torch.device('cuda:0')"
   ]
  },
  {
   "cell_type": "code",
   "execution_count": 4,
   "metadata": {},
   "outputs": [],
   "source": [
    "def pad(rawdata, seglength):\n",
    "    pad_length = -rawdata.size()[0] % seglength\n",
    "    padded = np.concatenate((rawdata, torch.zeros((pad_length, rawdata.size()[1]))), 0)\n",
    "    return padded"
   ]
  },
  {
   "cell_type": "code",
   "execution_count": 5,
   "metadata": {},
   "outputs": [],
   "source": [
    "def to_epochs(rawdata, seg_length):\n",
    "    data = pad(rawdata, seg_length)\n",
    "    \"\"\"\n",
    "    split = torch.Tensor([])\n",
    "    for element in torch.split(data, seg_length):\n",
    "        split = torch.cat((split, element))\n",
    "        \"\"\"\n",
    "    split = np.array(np.split(data, seg_length))\n",
    "    return split.reshape(-1, seg_length, 20)"
   ]
  },
  {
   "cell_type": "code",
   "execution_count": 6,
   "metadata": {},
   "outputs": [],
   "source": [
    "def to_gpu(x, on_cpu=False, gpu_id=None):\n",
    "\n",
    "    if torch.cuda.is_available() and not on_cpu:\n",
    "        x = x.cuda(gpu_id)\n",
    "    return x"
   ]
  },
  {
   "cell_type": "code",
   "execution_count": 7,
   "metadata": {},
   "outputs": [],
   "source": [
    "def to_device(data, device):\n",
    "    if isinstance(data, (list, tuple)):\n",
    "        return [to_device(d, device) for d in data]\n",
    "    return data.to(device, non_blocking=True)"
   ]
  },
  {
   "cell_type": "code",
   "execution_count": 8,
   "metadata": {},
   "outputs": [],
   "source": [
    "def PNES(path, train_ratio = 0.75):\n",
    "    names = []\n",
    "    for path, _, name in os.walk(path):\n",
    "        names.append(name)\n",
    "        names = np.squeeze(names)\n",
    "    \n",
    "    pnes = []\n",
    "    for i in range(len(names)):\n",
    "        pnes.append(torch.Tensor(pd.read_csv(f\"{path}\\{names[i]}\" , skiprows=2, header=None).values))\n",
    "    \n",
    "    pnes_epochs = []\n",
    "    for patient in pnes:\n",
    "        pnes_epochs.append(to_epochs(patient))\n",
    "    \n",
    "    random.shuffle(pnes_epochs)\n",
    "    idx = (np.ceil(0.75 * len(pnes_epochs))).astype(int)\n",
    "    train = pnes_epochs[0:idx]\n",
    "    test = pnes_epochs[idx:]\n",
    "    pnes_train_labels = np.ones(len(train)).reshape(-1) * 3\n",
    "    pnes_test_labels = np.ones(len(test)).reshape(-1) * 3\n",
    "    return train, test, pnes_train_labels, pnes_test_labels"
   ]
  },
  {
   "cell_type": "code",
   "execution_count": 9,
   "metadata": {},
   "outputs": [],
   "source": [
    "def FOCAL(path, train_ratio = 0.75, seglength = 9000):\n",
    "    names = []\n",
    "    for path, _, name in os.walk(path):\n",
    "        names.append(name)\n",
    "        names = np.squeeze(names)\n",
    "    \n",
    "    focal = []\n",
    "    for i in range(len(names)):\n",
    "        focal.append(torch.Tensor(pd.read_csv(f\"{path}\\{names[i]}\" , skiprows=2, header=None).values))\n",
    "    \n",
    "    focal_epochs = []\n",
    "    for patient in focal:\n",
    "        focal_epochs.append(to_epochs(patient, seglength))\n",
    "    \n",
    "    random.shuffle(focal_epochs)\n",
    "    idx = (np.ceil(train_ratio * len(focal_epochs))).astype(int)\n",
    "    train = focal_epochs[0:idx]\n",
    "    test = focal_epochs[idx:]\n",
    "    focal_train_labels = np.ones(len(train)).reshape(-1) * 0\n",
    "    focal_test_labels = np.ones(len(test)).reshape(-1) * 0\n",
    "    return train, test, focal_train_labels, focal_test_labels"
   ]
  },
  {
   "cell_type": "code",
   "execution_count": 10,
   "metadata": {},
   "outputs": [],
   "source": [
    "def IGE(path, train_ratio, seglength):\n",
    "    names = []\n",
    "    for path, _, name in os.walk(path):\n",
    "        names.append(name)\n",
    "        names = np.squeeze(names)\n",
    "    \n",
    "    ige = []\n",
    "    for i in range(len(names)):\n",
    "        ige.append(torch.Tensor(pd.read_csv(f\"{path}\\{names[i]}\" , skiprows=2, header=None).values))\n",
    "    \n",
    "    ige_epochs = np.array([])\n",
    "    for patient in ige:\n",
    "        ige_epochs = np.concatenate((ige_epochs, to_epochs(patient, seglength)), axis = 0)\n",
    "    \n",
    "    random.shuffle(ige_epochs)\n",
    "    idx = (np.ceil(train_ratio * len(ige_epochs))).astype(int)\n",
    "    train = ige_epochs[0:idx]\n",
    "    test = ige_epochs[idx:]\n",
    "    ige_train_labels = np.ones(len(train)).reshape(-1)\n",
    "    ige_test_labels = np.ones(len(test)).reshape(-1)\n",
    "    return train, test, ige_train_labels, ige_test_labels"
   ]
  },
  {
   "cell_type": "code",
   "execution_count": 18,
   "metadata": {},
   "outputs": [],
   "source": [
    "def TLE(path, train_ratio, seglength):\n",
    "    names = []\n",
    "    for path, _, name in os.walk(path):\n",
    "        names.append(name)\n",
    "        names = np.squeeze(names)\n",
    "    \n",
    "    temporal = []\n",
    "    for i in range(len(names)):\n",
    "        temporal.append(torch.Tensor(pd.read_csv(f\"{path}\\{names[i]}\" , skiprows=2, header=None).values))\n",
    "\n",
    "    temporal_epochs = to_epochs(temporal[0], seglength)\n",
    "    for patient in temporal:\n",
    "        temporal_epochs = np.concatenate((temporal_epochs, to_epochs(patient, seglength)), axis = 0)\n",
    "    \n",
    "    np.random.shuffle(temporal_epochs)\n",
    "    idx = (np.ceil(0.75 * len(temporal_epochs))).astype(int)\n",
    "    train = temporal_epochs[0:idx]\n",
    "    test = temporal_epochs[idx:]\n",
    "    train_labels = np.ones(len(train)).reshape(-1) * 4\n",
    "    test_labels = np.ones(len(test)).reshape(-1) * 4\n",
    "    \n",
    "\n",
    "    return train, test, train_labels, test_labels"
   ]
  },
  {
   "cell_type": "code",
   "execution_count": 12,
   "metadata": {},
   "outputs": [],
   "source": [
    "path = 'D:\\EEG\\TLE'\n",
    "seglength = 9000\n",
    "names = []\n",
    "for path, _, name in os.walk(path):\n",
    "    names.append(name)\n",
    "    names = np.squeeze(names)\n",
    "    \n",
    "temporal = []\n",
    "for i in range(len(names)):\n",
    "    temporal.append(torch.Tensor(pd.read_csv(f\"{path}\\{names[i]}\" , skiprows=2, header=None).values))"
   ]
  },
  {
   "cell_type": "code",
   "execution_count": 13,
   "metadata": {},
   "outputs": [],
   "source": [
    "temporal_epochs = np.zeros(np.shape(to_epochs(temporal[0], seglength)))"
   ]
  },
  {
   "cell_type": "code",
   "execution_count": 15,
   "metadata": {},
   "outputs": [],
   "source": [
    "\n",
    "    \n",
    "temporal_epochs = to_epochs(temporal[0], seglength)\n",
    "for patient in temporal:\n",
    "    temporal_epochs = np.concatenate((temporal_epochs, to_epochs(patient, seglength)), axis = 0)\n",
    "    \n",
    "np.random.shuffle(temporal_epochs)\n",
    "idx = (np.ceil(0.75 * len(temporal_epochs))).astype(int)\n",
    "train = temporal_epochs[0:idx]\n",
    "test = temporal_epochs[idx:]\n",
    "train_labels = np.ones(len(train)).reshape(-1) * 4\n",
    "test_labels = np.ones(len(test)).reshape(-1) * 4\n",
    "    "
   ]
  },
  {
   "cell_type": "code",
   "execution_count": 19,
   "metadata": {},
   "outputs": [],
   "source": [
    "#ige_train, ige_test, ige_train_labels, ige_test_labels = IGE('D:\\EEG\\IGE', seglength = 9000, train_ratio = 0.75)\n",
    "#focal_train, focal_test, focal_train_labels, focal_test_labels = FOCAL('D:\\EEG\\FOCAL', seglength= 10000)\n",
    "#pnes_train, pnes_test, pnes_train_labels, pnes_test_labels = PNES('D:\\EEG\\PNES')\n",
    "\n",
    "temporal_train, temporal_test, temporal_train_labels, temporal_test_labels = TLE('D:\\EEG\\TLE', train_ratio = 0.8, seglength = 9000)\n",
    "\n"
   ]
  },
  {
   "cell_type": "code",
   "execution_count": 24,
   "metadata": {},
   "outputs": [
    {
     "data": {
      "text/plain": [
       "(2562, 9000, 20)"
      ]
     },
     "execution_count": 24,
     "metadata": {},
     "output_type": "execute_result"
    }
   ],
   "source": [
    "temporal_train.shape"
   ]
  }
 ],
 "metadata": {
  "kernelspec": {
   "display_name": "base",
   "language": "python",
   "name": "python3"
  },
  "language_info": {
   "codemirror_mode": {
    "name": "ipython",
    "version": 3
   },
   "file_extension": ".py",
   "mimetype": "text/x-python",
   "name": "python",
   "nbconvert_exporter": "python",
   "pygments_lexer": "ipython3",
   "version": "3.9.13"
  },
  "orig_nbformat": 4
 },
 "nbformat": 4,
 "nbformat_minor": 2
}
