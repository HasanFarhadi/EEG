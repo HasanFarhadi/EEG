{
 "cells": [
  {
   "cell_type": "code",
   "execution_count": 2,
   "metadata": {},
   "outputs": [],
   "source": [
    "import os\n",
    "os.environ[\"KMP_DUPLICATE_LIB_OK\"]=\"TRUE\"\n",
    "#os.environ['CUDA_LAUNCH_BLOCKING'] = str(1)\n",
    "#os.environ[\"TORCH_USE_CUDA_DSA\"]= str(0)\n",
    "device = \"cuda\""
   ]
  },
  {
   "cell_type": "code",
   "execution_count": 3,
   "metadata": {},
   "outputs": [],
   "source": [
    "import copy\n",
    "import torch\n",
    "import torch.nn as nn\n",
    "from torch.nn import functional as F\n",
    "from torch.utils.data import Dataset\n",
    "import torch.optim as optim\n",
    "from torch.autograd import Variable\n",
    "from tqdm import tqdm\n",
    "import numpy as np\n",
    "import pandas as pd\n",
    "import matplotlib.pyplot as plt\n",
    "import time\n",
    "import math\n",
    "from collections import OrderedDict\n",
    "import random\n",
    "from torchsummary import summary"
   ]
  },
  {
   "cell_type": "code",
   "execution_count": 3,
   "metadata": {},
   "outputs": [],
   "source": [
    "X_train = torch.randn([425833, 300, 18])\n",
    "Y_train = torch.ones([425833, 1]) * 0.5\n",
    "X_val = torch.randn([47314, 300, 18])\n",
    "Y_val = torch.ones([47314, 1]) * 0.5\n",
    "X_test = torch.randn([118286, 300, 18])\n",
    "Y_test = torch.ones([118286, 1]) * 0.5"
   ]
  },
  {
   "cell_type": "code",
   "execution_count": 12,
   "metadata": {},
   "outputs": [],
   "source": [
    "class LSTM_CNN_Spatial(nn.Module):\n",
    "    def __init__(self, num_classes, batch_size, T, C, input_size, hidden_size,\n",
    "                 num_layers, spatial_num=8, drop_out=0.5):\n",
    "        super(LSTM_CNN_Spatial, self).__init__()\n",
    "\n",
    "        self.N = batch_size\n",
    "        self.T = T\n",
    "        self.C = C\n",
    "        self.input_size = input_size\n",
    "        self.hidden_size = hidden_size\n",
    "        self.num_layers = num_layers\n",
    "        self.pool = 4\n",
    "        self.seq_len = self.T // self.input_size\n",
    "        self.fc_in = spatial_num * self.hidden_size // self.pool\n",
    "        \n",
    "        self._lstm = nn.LSTM(self.input_size, self.hidden_size, \n",
    "                            self.num_layers, batch_first=True)\n",
    "        self.lstm = nn.ModuleList([self._lstm for i in range(self.C)])\n",
    "        \n",
    "        self.block_1 = nn.Sequential(\n",
    "            nn.Conv2d(1, spatial_num, (self.C, 1)),\n",
    "            nn.BatchNorm2d(spatial_num),\n",
    "            nn.ELU(),\n",
    "            nn.AvgPool2d((1, self.pool)),\n",
    "            nn.Dropout(drop_out)\n",
    "        )\n",
    "        \n",
    "        self.fc = nn.Linear(self.fc_in , num_classes)\n",
    "        \n",
    "    def forward(self, x):\n",
    "        # input shape of x: (N, 1, C, T)\n",
    "        self.N = x.shape[0]\n",
    "        x = x.reshape(self.N, self.C, self.seq_len, self.input_size)\n",
    "        _x = None\n",
    "        for index, lstm in enumerate(self.lstm):\n",
    "            lstm_out, _ = lstm(x[:, index, :, :], None)\n",
    "            tmp = lstm_out[:, -1, :]\n",
    "            tmp = tmp.unsqueeze(0)\n",
    "            if _x is None:\n",
    "                _x = tmp\n",
    "            else:\n",
    "                _x = torch.cat((_x, tmp), dim=0)\n",
    "        \n",
    "        # (C, N, H) ===> (N, 1, C, H)   H: hidden_size\n",
    "        x = _x.permute(1, 0, 2).unsqueeze(1)\n",
    "        x = self.block_1(x)\n",
    "        \n",
    "        x = x.view(x.size(0), -1)\n",
    "        logits = self.fc(x)\n",
    "        probas = F.softmax(logits, dim=1)\n",
    "        return probas  "
   ]
  },
  {
   "cell_type": "code",
   "execution_count": 14,
   "metadata": {},
   "outputs": [
    {
     "name": "stdout",
     "output_type": "stream",
     "text": [
      "tensor([[0.2316, 0.2906, 0.1707, 0.3071],\n",
      "        [0.1876, 0.2736, 0.2095, 0.3293],\n",
      "        [0.1901, 0.3396, 0.1666, 0.3038],\n",
      "        [0.1804, 0.2422, 0.2206, 0.3568]], device='cuda:0')\n"
     ]
    }
   ],
   "source": [
    "if __name__ == '__main__':\n",
    "    # model test\n",
    "    DEVICE = torch.device('cuda:0' if torch.cuda.is_available() else 'cpu')\n",
    "    x = torch.randn((4, 1, 18, 300))\n",
    "    x = x.to(DEVICE)\n",
    "    # num_classes = 4, batch_size = 4, T = 256, C = 64, input_size = 16, hidden_size = 16, num_layers = 2, spatial_num=8, drop_out=0.5\n",
    "    model = LSTM_CNN_Spatial(4, 4, 300, 18, 15, 160, 20)\n",
    "    model = model.to(DEVICE)\n",
    "    y = model(x)\n",
    "    print(y.data)"
   ]
  }
 ],
 "metadata": {
  "kernelspec": {
   "display_name": "base",
   "language": "python",
   "name": "python3"
  },
  "language_info": {
   "codemirror_mode": {
    "name": "ipython",
    "version": 3
   },
   "file_extension": ".py",
   "mimetype": "text/x-python",
   "name": "python",
   "nbconvert_exporter": "python",
   "pygments_lexer": "ipython3",
   "version": "3.9.13"
  },
  "orig_nbformat": 4
 },
 "nbformat": 4,
 "nbformat_minor": 2
}
