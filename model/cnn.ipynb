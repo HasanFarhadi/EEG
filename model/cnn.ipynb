{
 "cells": [
  {
   "cell_type": "code",
   "execution_count": 10,
   "metadata": {},
   "outputs": [],
   "source": [
    "import os\n",
    "os.environ[\"KMP_DUPLICATE_LIB_OK\"]=\"TRUE\""
   ]
  },
  {
   "cell_type": "code",
   "execution_count": 11,
   "metadata": {},
   "outputs": [],
   "source": [
    "from __future__ import print_function\n",
    "\n",
    "import os\n",
    "import torch\n",
    "import torch.nn as nn\n",
    "import torch.optim as optim\n",
    "import torch.nn.functional as F\n",
    "import torchvision\n",
    "import torchvision.transforms as transforms\n",
    "import matplotlib.pyplot as plt\n",
    "import numpy as np\n",
    "from torch.utils.data import Dataset\n",
    "from torchvision import datasets\n",
    "from torchvision.transforms import ToTensor\n",
    "import matplotlib.pyplot as plt\n",
    "from torch.autograd import Variable\n",
    "from sklearn.metrics import roc_auc_score, precision_score, recall_score, accuracy_score\n",
    "from torchsummary import summary"
   ]
  },
  {
   "cell_type": "code",
   "execution_count": 12,
   "metadata": {},
   "outputs": [],
   "source": [
    "import import_ipynb\n",
    "from datagen import Data"
   ]
  },
  {
   "cell_type": "code",
   "execution_count": 13,
   "metadata": {},
   "outputs": [],
   "source": [
    "\n",
    "seglength = 9000\n",
    "train_ratio = 0.8\n",
    "pnes_train, pnes_test, pnes_train_labels, pnes_test_labels = Data('D:\\EEG\\PNES', train_ratio, seglength, class_num = 3)\n",
    "temporal_train, temporal_test, temporal_train_labels, temporal_test_labels = Data('D:\\EEG\\TLE', train_ratio, seglength, class_num = 4)\n"
   ]
  },
  {
   "cell_type": "code",
   "execution_count": 14,
   "metadata": {},
   "outputs": [],
   "source": [
    "\n",
    "val_ratio = 0.1\n",
    "X_train = torch.cat((pnes_train, temporal_train))\n",
    "Y_train = torch.cat((pnes_train_labels, temporal_train_labels))\n",
    "\n",
    "X_test = torch.cat((pnes_test, temporal_test))\n",
    "Y_test = torch.cat((pnes_test_labels, temporal_test_labels))\n",
    "\n",
    "X_val = X_train[:int(val_ratio * len(Y_train))]\n",
    "Y_val = Y_train[:int(val_ratio * len(Y_train))]\n",
    "\n",
    "X_train = X_train[int(val_ratio * len(Y_train)):]\n",
    "Y_train = Y_train[int(val_ratio * len(Y_train)):]\n"
   ]
  },
  {
   "cell_type": "code",
   "execution_count": 15,
   "metadata": {},
   "outputs": [
    {
     "data": {
      "text/plain": [
       "torch.Size([6675, 1, 9000, 20])"
      ]
     },
     "execution_count": 15,
     "metadata": {},
     "output_type": "execute_result"
    }
   ],
   "source": [
    "np.shape(X_train)"
   ]
  },
  {
   "cell_type": "code",
   "execution_count": 36,
   "metadata": {},
   "outputs": [
    {
     "name": "stdout",
     "output_type": "stream",
     "text": [
      "----------------------------------------------------------------\n",
      "        Layer (type)               Output Shape         Param #\n",
      "================================================================\n",
      "            Conv2d-1          [-1, 160, 179, 1]         320,160\n",
      "       BatchNorm2d-2          [-1, 160, 179, 1]             320\n",
      "         ZeroPad2d-3          [-1, 160, 181, 3]               0\n",
      "         MaxPool2d-4           [-1, 160, 90, 1]               0\n",
      "================================================================\n",
      "Total params: 320,480\n",
      "Trainable params: 320,480\n",
      "Non-trainable params: 0\n",
      "----------------------------------------------------------------\n",
      "Input size (MB): 0.69\n",
      "Forward/backward pass size (MB): 1.21\n",
      "Params size (MB): 1.22\n",
      "Estimated Total Size (MB): 3.12\n",
      "----------------------------------------------------------------\n"
     ]
    }
   ],
   "source": [
    "class CNN(nn.Module):\n",
    "    def __init__(self):\n",
    "        super(CNN, self).__init__()\n",
    "        self.T = 9000\n",
    "\n",
    "        # Layer 1\n",
    "        self.conv1 = nn.Conv2d(1, 160, (100, 20), padding = 0, stride= 50)\n",
    "        self.batchnorm1 = nn.BatchNorm2d(160, False)\n",
    "        self.pad1 = nn.ZeroPad2d((1, 1, 1, 1))\n",
    "        self.pooling1  = nn.MaxPool2d(2, 2)\n",
    "\n",
    "\n",
    "        # Layer 2\n",
    "        \n",
    "\n",
    "\n",
    "\n",
    "    def forward(self, x):\n",
    "        # Layer 1\n",
    "        x = F.elu(self.conv1(x))\n",
    "        x = self.batchnorm1(x)\n",
    "        x = self.pad1(x)\n",
    "        x = self.pooling1(x)\n",
    "\n",
    "\n",
    "        # Layer 2\n",
    "        self.fc1()\n",
    "\n",
    "        s\n",
    "        return x\n",
    "\n",
    "\n",
    "\n",
    "model = CNN()        \n",
    "\n",
    "np.shape(model.forward(X_train[0:32]))\n",
    "summary(model.cuda(), (1, 9000, 20))\n"
   ]
  },
  {
   "cell_type": "code",
   "execution_count": 18,
   "metadata": {},
   "outputs": [
    {
     "data": {
      "text/plain": [
       "torch.Size([4, 20, 119, 19])"
      ]
     },
     "execution_count": 18,
     "metadata": {},
     "output_type": "execute_result"
    }
   ],
   "source": [
    "x = torch.randn(4, 100, 120, 20)\n",
    "y = nn.Conv2d(100, 20, 2)(x)\n",
    "np.shape(y)"
   ]
  }
 ],
 "metadata": {
  "kernelspec": {
   "display_name": "base",
   "language": "python",
   "name": "python3"
  },
  "language_info": {
   "codemirror_mode": {
    "name": "ipython",
    "version": 3
   },
   "file_extension": ".py",
   "mimetype": "text/x-python",
   "name": "python",
   "nbconvert_exporter": "python",
   "pygments_lexer": "ipython3",
   "version": "3.9.13"
  },
  "orig_nbformat": 4
 },
 "nbformat": 4,
 "nbformat_minor": 2
}
